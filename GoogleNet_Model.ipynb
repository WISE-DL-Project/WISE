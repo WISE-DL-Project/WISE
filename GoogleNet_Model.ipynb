{
 "cells": [
  {
   "cell_type": "code",
   "execution_count": 2,
   "metadata": {
    "tags": []
   },
   "outputs": [
    {
     "name": "stdout",
     "output_type": "stream",
     "text": [
      "d:\\MSDS\\Spring Term\\DS6050 - DL\\WISE\n"
     ]
    }
   ],
   "source": [
    "import pandas as pd\n",
    "import os\n",
    "\n",
    "# Get current working directory\n",
    "cwd = os.getcwd()\n",
    "print(cwd)\n",
    "\n",
    "%load_ext autoreload\n",
    "%autoreload 2"
   ]
  },
  {
   "cell_type": "markdown",
   "metadata": {},
   "source": [
    "### GoogleNet \n",
    "Training Time: 2135 seconds\n",
    "\n",
    "97% accuracy"
   ]
  },
  {
   "cell_type": "code",
   "execution_count": 1,
   "metadata": {},
   "outputs": [
    {
     "name": "stderr",
     "output_type": "stream",
     "text": [
      "/tmp/ipykernel_530364/64582660.py:19: DeprecationWarning: pkg_resources is deprecated as an API. See https://setuptools.pypa.io/en/latest/pkg_resources.html\n",
      "  import pkg_resources\n"
     ]
    },
    {
     "name": "stdout",
     "output_type": "stream",
     "text": [
      "Using device: cuda\n",
      "Attempting to install pillow-webp-fork...\n",
      "Could not install WebP support: Command '['pip', 'install', 'pillow-webp-fork']' returned non-zero exit status 1.\n",
      "WEBP images might not load correctly.\n",
      "Downloading dataset from Kaggle...\n",
      "Warning: Looks like you're using an outdated `kagglehub` version (installed: 0.3.10), please consider upgrading to the latest version (0.3.11).\n",
      "Scanning dataset for valid images...\n",
      "Processing class: battery (944 files)\n",
      "Processing class: biological (997 files)\n",
      "Processing class: cardboard (1825 files)\n",
      "Processing class: clothes (5327 files)\n",
      "Processing class: glass (3061 files)\n",
      "Processing class: metal (1020 files)\n",
      "Processing class: paper (1680 files)\n"
     ]
    },
    {
     "name": "stderr",
     "output_type": "stream",
     "text": [
      "/usr/local/lib/python3.10/dist-packages/PIL/Image.py:3296: UserWarning: image file could not be identified because WEBP support not installed\n",
      "  warnings.warn(message)\n"
     ]
    },
    {
     "name": "stdout",
     "output_type": "stream",
     "text": [
      "Processing class: plastic (1984 files)\n",
      "Processing class: shoes (1977 files)\n",
      "Processing class: trash (947 files)\n",
      "Skipped 3 corrupt or unreadable images.\n",
      "\n",
      "Class distribution (Valid images):\n",
      "  battery: 944 images\n",
      "  biological: 997 images\n",
      "  cardboard: 1825 images\n",
      "  clothes: 5327 images\n",
      "  glass: 3061 images\n",
      "  metal: 1020 images\n",
      "  paper: 1677 images\n",
      "  plastic: 1984 images\n",
      "  shoes: 1977 images\n",
      "  trash: 947 images\n",
      "\n",
      "Found 19759 valid images across 10 classes.\n"
     ]
    },
    {
     "name": "stderr",
     "output_type": "stream",
     "text": [
      "/usr/local/lib/python3.10/dist-packages/torchvision/models/_utils.py:208: UserWarning: The parameter 'pretrained' is deprecated since 0.13 and may be removed in the future, please use 'weights' instead.\n",
      "  warnings.warn(\n",
      "/usr/local/lib/python3.10/dist-packages/torchvision/models/_utils.py:223: UserWarning: Arguments other than a weight enum or `None` for 'weights' are deprecated since 0.13 and may be removed in the future. The current behavior is equivalent to passing `weights=GoogLeNet_Weights.IMAGENET1K_V1`. You can also use `weights=GoogLeNet_Weights.DEFAULT` to get the most up-to-date weights.\n",
      "  warnings.warn(msg)\n",
      "/usr/local/lib/python3.10/dist-packages/torchvision/models/googlenet.py:341: UserWarning: auxiliary heads in the pretrained googlenet model are NOT pretrained, so make sure to train them\n",
      "  warnings.warn(\n",
      "/usr/local/lib/python3.10/dist-packages/torch/optim/lr_scheduler.py:28: UserWarning: The verbose parameter is deprecated. Please use get_last_lr() to access the learning rate.\n",
      "  warnings.warn(\"The verbose parameter is deprecated. Please use get_last_lr() \"\n"
     ]
    },
    {
     "name": "stdout",
     "output_type": "stream",
     "text": [
      "Epoch 1/30\n"
     ]
    },
    {
     "name": "stderr",
     "output_type": "stream",
     "text": [
      "Training: 100%|██████████| 432/432 [00:42<00:00, 10.12it/s, loss=0.396, acc=0.863] \n",
      "Validation: 100%|██████████| 92/92 [00:09<00:00,  9.98it/s, loss=0.411, acc=0.903] \n"
     ]
    },
    {
     "name": "stdout",
     "output_type": "stream",
     "text": [
      "Train Loss: 0.4396, Train Acc: 0.8631, Val Loss: 0.3001, Val Acc: 0.9025\n",
      "Epoch 2/30\n"
     ]
    },
    {
     "name": "stderr",
     "output_type": "stream",
     "text": [
      "Training: 100%|██████████| 432/432 [00:39<00:00, 11.06it/s, loss=0.162, acc=0.927] \n",
      "Validation: 100%|██████████| 92/92 [00:09<00:00,  9.95it/s, loss=0.236, acc=0.924] \n"
     ]
    },
    {
     "name": "stdout",
     "output_type": "stream",
     "text": [
      "Train Loss: 0.2311, Train Acc: 0.9270, Val Loss: 0.2417, Val Acc: 0.9236\n",
      "Epoch 3/30\n"
     ]
    },
    {
     "name": "stderr",
     "output_type": "stream",
     "text": [
      "Training: 100%|██████████| 432/432 [00:38<00:00, 11.08it/s, loss=0.207, acc=0.943] \n",
      "Validation: 100%|██████████| 92/92 [00:09<00:00, 10.05it/s, loss=0.476, acc=0.927] \n"
     ]
    },
    {
     "name": "stdout",
     "output_type": "stream",
     "text": [
      "Train Loss: 0.1752, Train Acc: 0.9433, Val Loss: 0.2310, Val Acc: 0.9266\n",
      "Epoch 4/30\n"
     ]
    },
    {
     "name": "stderr",
     "output_type": "stream",
     "text": [
      "Training: 100%|██████████| 432/432 [00:39<00:00, 10.92it/s, loss=0.185, acc=0.952]  \n",
      "Validation: 100%|██████████| 92/92 [00:09<00:00,  9.67it/s, loss=0.205, acc=0.93]  \n"
     ]
    },
    {
     "name": "stdout",
     "output_type": "stream",
     "text": [
      "Train Loss: 0.1468, Train Acc: 0.9515, Val Loss: 0.2381, Val Acc: 0.9300\n",
      "Epoch 5/30\n"
     ]
    },
    {
     "name": "stderr",
     "output_type": "stream",
     "text": [
      "Training: 100%|██████████| 432/432 [00:39<00:00, 10.95it/s, loss=0.154, acc=0.956] \n",
      "Validation: 100%|██████████| 92/92 [00:09<00:00,  9.60it/s, loss=0.149, acc=0.934] \n"
     ]
    },
    {
     "name": "stdout",
     "output_type": "stream",
     "text": [
      "Train Loss: 0.1295, Train Acc: 0.9561, Val Loss: 0.2177, Val Acc: 0.9341\n",
      "Epoch 6/30\n"
     ]
    },
    {
     "name": "stderr",
     "output_type": "stream",
     "text": [
      "Training: 100%|██████████| 432/432 [00:39<00:00, 10.81it/s, loss=0.195, acc=0.966]  \n",
      "Validation: 100%|██████████| 92/92 [00:09<00:00,  9.39it/s, loss=0.236, acc=0.932] \n"
     ]
    },
    {
     "name": "stdout",
     "output_type": "stream",
     "text": [
      "Train Loss: 0.1014, Train Acc: 0.9656, Val Loss: 0.2336, Val Acc: 0.9324\n",
      "Epoch 7/30\n"
     ]
    },
    {
     "name": "stderr",
     "output_type": "stream",
     "text": [
      "Training: 100%|██████████| 432/432 [00:39<00:00, 10.88it/s, loss=0.118, acc=0.964]  \n",
      "Validation: 100%|██████████| 92/92 [00:09<00:00,  9.41it/s, loss=0.316, acc=0.937]  \n"
     ]
    },
    {
     "name": "stdout",
     "output_type": "stream",
     "text": [
      "Train Loss: 0.1031, Train Acc: 0.9645, Val Loss: 0.2295, Val Acc: 0.9368\n",
      "Epoch 8/30\n"
     ]
    },
    {
     "name": "stderr",
     "output_type": "stream",
     "text": [
      "Training: 100%|██████████| 432/432 [00:39<00:00, 10.84it/s, loss=0.0125, acc=0.97]  \n",
      "Validation: 100%|██████████| 92/92 [00:09<00:00,  9.47it/s, loss=0.333, acc=0.939]  \n"
     ]
    },
    {
     "name": "stdout",
     "output_type": "stream",
     "text": [
      "Train Loss: 0.0923, Train Acc: 0.9702, Val Loss: 0.2208, Val Acc: 0.9389\n",
      "Epoch 9/30\n"
     ]
    },
    {
     "name": "stderr",
     "output_type": "stream",
     "text": [
      "Training: 100%|██████████| 432/432 [00:40<00:00, 10.67it/s, loss=0.0815, acc=0.988]  \n",
      "Validation: 100%|██████████| 92/92 [00:09<00:00,  9.42it/s, loss=0.169, acc=0.953]   \n"
     ]
    },
    {
     "name": "stdout",
     "output_type": "stream",
     "text": [
      "Train Loss: 0.0379, Train Acc: 0.9878, Val Loss: 0.1715, Val Acc: 0.9535\n",
      "Epoch 10/30\n"
     ]
    },
    {
     "name": "stderr",
     "output_type": "stream",
     "text": [
      "Training: 100%|██████████| 432/432 [00:40<00:00, 10.65it/s, loss=0.00273, acc=0.994] \n",
      "Validation: 100%|██████████| 92/92 [00:09<00:00,  9.50it/s, loss=0.123, acc=0.954]  \n"
     ]
    },
    {
     "name": "stdout",
     "output_type": "stream",
     "text": [
      "Train Loss: 0.0214, Train Acc: 0.9944, Val Loss: 0.1628, Val Acc: 0.9545\n",
      "Epoch 11/30\n"
     ]
    },
    {
     "name": "stderr",
     "output_type": "stream",
     "text": [
      "Training: 100%|██████████| 432/432 [00:40<00:00, 10.75it/s, loss=0.101, acc=0.995]   \n",
      "Validation: 100%|██████████| 92/92 [00:09<00:00,  9.25it/s, loss=0.105, acc=0.96]    \n"
     ]
    },
    {
     "name": "stdout",
     "output_type": "stream",
     "text": [
      "Train Loss: 0.0178, Train Acc: 0.9946, Val Loss: 0.1590, Val Acc: 0.9599\n",
      "Epoch 12/30\n"
     ]
    },
    {
     "name": "stderr",
     "output_type": "stream",
     "text": [
      "Training: 100%|██████████| 432/432 [00:39<00:00, 10.89it/s, loss=0.00197, acc=0.996] \n",
      "Validation: 100%|██████████| 92/92 [00:09<00:00,  9.57it/s, loss=0.0455, acc=0.96]  \n"
     ]
    },
    {
     "name": "stdout",
     "output_type": "stream",
     "text": [
      "Train Loss: 0.0156, Train Acc: 0.9955, Val Loss: 0.1587, Val Acc: 0.9603\n",
      "Epoch 13/30\n"
     ]
    },
    {
     "name": "stderr",
     "output_type": "stream",
     "text": [
      "Training: 100%|██████████| 432/432 [00:40<00:00, 10.74it/s, loss=0.0171, acc=0.996]  \n",
      "Validation: 100%|██████████| 92/92 [00:09<00:00,  9.70it/s, loss=0.0284, acc=0.959] \n"
     ]
    },
    {
     "name": "stdout",
     "output_type": "stream",
     "text": [
      "Train Loss: 0.0158, Train Acc: 0.9958, Val Loss: 0.1625, Val Acc: 0.9592\n",
      "Epoch 14/30\n"
     ]
    },
    {
     "name": "stderr",
     "output_type": "stream",
     "text": [
      "Training: 100%|██████████| 432/432 [00:39<00:00, 10.97it/s, loss=0.00145, acc=0.998] \n",
      "Validation: 100%|██████████| 92/92 [00:09<00:00,  9.53it/s, loss=0.066, acc=0.959]   \n"
     ]
    },
    {
     "name": "stdout",
     "output_type": "stream",
     "text": [
      "Train Loss: 0.0101, Train Acc: 0.9977, Val Loss: 0.1608, Val Acc: 0.9592\n",
      "Epoch 15/30\n"
     ]
    },
    {
     "name": "stderr",
     "output_type": "stream",
     "text": [
      "Training: 100%|██████████| 432/432 [00:39<00:00, 10.92it/s, loss=0.00431, acc=0.998] \n",
      "Validation: 100%|██████████| 92/92 [00:09<00:00,  9.64it/s, loss=0.0765, acc=0.956]  \n"
     ]
    },
    {
     "name": "stdout",
     "output_type": "stream",
     "text": [
      "Train Loss: 0.0095, Train Acc: 0.9978, Val Loss: 0.1716, Val Acc: 0.9562\n",
      "Epoch 16/30\n"
     ]
    },
    {
     "name": "stderr",
     "output_type": "stream",
     "text": [
      "Training: 100%|██████████| 432/432 [00:39<00:00, 10.91it/s, loss=0.0102, acc=0.998]  \n",
      "Validation: 100%|██████████| 92/92 [00:09<00:00,  9.88it/s, loss=0.0626, acc=0.959] \n"
     ]
    },
    {
     "name": "stdout",
     "output_type": "stream",
     "text": [
      "Train Loss: 0.0085, Train Acc: 0.9981, Val Loss: 0.1677, Val Acc: 0.9589\n",
      "Epoch 17/30\n"
     ]
    },
    {
     "name": "stderr",
     "output_type": "stream",
     "text": [
      "Training: 100%|██████████| 432/432 [00:39<00:00, 10.93it/s, loss=0.000823, acc=0.998]\n",
      "Validation: 100%|██████████| 92/92 [00:09<00:00,  9.79it/s, loss=0.0963, acc=0.957] \n"
     ]
    },
    {
     "name": "stdout",
     "output_type": "stream",
     "text": [
      "Train Loss: 0.0081, Train Acc: 0.9981, Val Loss: 0.1735, Val Acc: 0.9569\n",
      "Epoch 18/30\n"
     ]
    },
    {
     "name": "stderr",
     "output_type": "stream",
     "text": [
      "Training: 100%|██████████| 432/432 [00:39<00:00, 10.98it/s, loss=0.00852, acc=0.998] \n",
      "Validation: 100%|██████████| 92/92 [00:09<00:00,  9.96it/s, loss=0.0209, acc=0.96]  \n"
     ]
    },
    {
     "name": "stdout",
     "output_type": "stream",
     "text": [
      "Train Loss: 0.0077, Train Acc: 0.9983, Val Loss: 0.1562, Val Acc: 0.9603\n",
      "Epoch 19/30\n"
     ]
    },
    {
     "name": "stderr",
     "output_type": "stream",
     "text": [
      "Training: 100%|██████████| 432/432 [00:39<00:00, 10.91it/s, loss=0.000889, acc=0.999]\n",
      "Validation: 100%|██████████| 92/92 [00:09<00:00,  9.90it/s, loss=0.0606, acc=0.964]  \n"
     ]
    },
    {
     "name": "stdout",
     "output_type": "stream",
     "text": [
      "Train Loss: 0.0071, Train Acc: 0.9986, Val Loss: 0.1547, Val Acc: 0.9640\n",
      "Epoch 20/30\n"
     ]
    },
    {
     "name": "stderr",
     "output_type": "stream",
     "text": [
      "Training: 100%|██████████| 432/432 [00:39<00:00, 10.94it/s, loss=0.0108, acc=0.999]  \n",
      "Validation: 100%|██████████| 92/92 [00:09<00:00,  9.95it/s, loss=0.0808, acc=0.96]   \n"
     ]
    },
    {
     "name": "stdout",
     "output_type": "stream",
     "text": [
      "Train Loss: 0.0072, Train Acc: 0.9988, Val Loss: 0.1646, Val Acc: 0.9599\n",
      "Epoch 21/30\n"
     ]
    },
    {
     "name": "stderr",
     "output_type": "stream",
     "text": [
      "Training: 100%|██████████| 432/432 [00:39<00:00, 10.84it/s, loss=0.00274, acc=0.999] \n",
      "Validation: 100%|██████████| 92/92 [00:09<00:00,  9.83it/s, loss=0.0343, acc=0.963]  \n"
     ]
    },
    {
     "name": "stdout",
     "output_type": "stream",
     "text": [
      "Train Loss: 0.0075, Train Acc: 0.9986, Val Loss: 0.1668, Val Acc: 0.9630\n",
      "Epoch 22/30\n"
     ]
    },
    {
     "name": "stderr",
     "output_type": "stream",
     "text": [
      "Training: 100%|██████████| 432/432 [00:39<00:00, 10.85it/s, loss=0.00116, acc=0.999] \n",
      "Validation: 100%|██████████| 92/92 [00:09<00:00,  9.77it/s, loss=0.0567, acc=0.964]  \n"
     ]
    },
    {
     "name": "stdout",
     "output_type": "stream",
     "text": [
      "Train Loss: 0.0063, Train Acc: 0.9990, Val Loss: 0.1591, Val Acc: 0.9637\n",
      "Epoch 23/30\n"
     ]
    },
    {
     "name": "stderr",
     "output_type": "stream",
     "text": [
      "Training: 100%|██████████| 432/432 [00:39<00:00, 10.95it/s, loss=0.00287, acc=0.999] \n",
      "Validation: 100%|██████████| 92/92 [00:09<00:00,  9.81it/s, loss=0.0271, acc=0.96]   \n"
     ]
    },
    {
     "name": "stdout",
     "output_type": "stream",
     "text": [
      "Train Loss: 0.0054, Train Acc: 0.9989, Val Loss: 0.1549, Val Acc: 0.9603\n",
      "Epoch 24/30\n"
     ]
    },
    {
     "name": "stderr",
     "output_type": "stream",
     "text": [
      "Training: 100%|██████████| 432/432 [00:39<00:00, 10.81it/s, loss=0.000845, acc=0.999]\n",
      "Validation: 100%|██████████| 92/92 [00:09<00:00,  9.46it/s, loss=0.0632, acc=0.962]  \n"
     ]
    },
    {
     "name": "stdout",
     "output_type": "stream",
     "text": [
      "Train Loss: 0.0065, Train Acc: 0.9988, Val Loss: 0.1567, Val Acc: 0.9616\n",
      "Epoch 25/30\n"
     ]
    },
    {
     "name": "stderr",
     "output_type": "stream",
     "text": [
      "Training: 100%|██████████| 432/432 [00:39<00:00, 11.06it/s, loss=0.00142, acc=0.999] \n",
      "Validation: 100%|██████████| 92/92 [00:09<00:00,  9.58it/s, loss=0.0373, acc=0.96]   \n"
     ]
    },
    {
     "name": "stdout",
     "output_type": "stream",
     "text": [
      "Train Loss: 0.0058, Train Acc: 0.9991, Val Loss: 0.1561, Val Acc: 0.9599\n",
      "Epoch 26/30\n"
     ]
    },
    {
     "name": "stderr",
     "output_type": "stream",
     "text": [
      "Training: 100%|██████████| 432/432 [00:39<00:00, 10.88it/s, loss=0.001, acc=0.999]   \n",
      "Validation: 100%|██████████| 92/92 [00:09<00:00,  9.73it/s, loss=0.0562, acc=0.963]  \n"
     ]
    },
    {
     "name": "stdout",
     "output_type": "stream",
     "text": [
      "Train Loss: 0.0059, Train Acc: 0.9991, Val Loss: 0.1510, Val Acc: 0.9633\n",
      "Epoch 27/30\n"
     ]
    },
    {
     "name": "stderr",
     "output_type": "stream",
     "text": [
      "Training: 100%|██████████| 432/432 [00:39<00:00, 10.98it/s, loss=0.00386, acc=0.999] \n",
      "Validation: 100%|██████████| 92/92 [00:09<00:00,  9.70it/s, loss=0.089, acc=0.963]   \n"
     ]
    },
    {
     "name": "stdout",
     "output_type": "stream",
     "text": [
      "Train Loss: 0.0057, Train Acc: 0.9986, Val Loss: 0.1653, Val Acc: 0.9626\n",
      "Epoch 28/30\n"
     ]
    },
    {
     "name": "stderr",
     "output_type": "stream",
     "text": [
      "Training: 100%|██████████| 432/432 [00:39<00:00, 10.98it/s, loss=0.000502, acc=0.999]\n",
      "Validation: 100%|██████████| 92/92 [00:09<00:00,  9.71it/s, loss=0.0415, acc=0.96]  \n"
     ]
    },
    {
     "name": "stdout",
     "output_type": "stream",
     "text": [
      "Train Loss: 0.0064, Train Acc: 0.9987, Val Loss: 0.1648, Val Acc: 0.9599\n",
      "Epoch 29/30\n"
     ]
    },
    {
     "name": "stderr",
     "output_type": "stream",
     "text": [
      "Training: 100%|██████████| 432/432 [00:40<00:00, 10.72it/s, loss=0.00361, acc=0.998] \n",
      "Validation: 100%|██████████| 92/92 [00:09<00:00,  9.99it/s, loss=0.0576, acc=0.961]  \n"
     ]
    },
    {
     "name": "stdout",
     "output_type": "stream",
     "text": [
      "Train Loss: 0.0074, Train Acc: 0.9983, Val Loss: 0.1608, Val Acc: 0.9609\n",
      "Epoch 30/30\n"
     ]
    },
    {
     "name": "stderr",
     "output_type": "stream",
     "text": [
      "Training: 100%|██████████| 432/432 [00:39<00:00, 10.93it/s, loss=0.00479, acc=0.999] \n",
      "Validation: 100%|██████████| 92/92 [00:09<00:00,  9.87it/s, loss=0.0425, acc=0.959]  \n"
     ]
    },
    {
     "name": "stdout",
     "output_type": "stream",
     "text": [
      "Train Loss: 0.0061, Train Acc: 0.9988, Val Loss: 0.1707, Val Acc: 0.9592\n"
     ]
    },
    {
     "name": "stderr",
     "output_type": "stream",
     "text": [
      "Testing: 100%|██████████| 92/92 [00:08<00:00, 10.88it/s]\n"
     ]
    },
    {
     "name": "stdout",
     "output_type": "stream",
     "text": [
      "\n",
      "Classification Report (GoogLeNet):\n",
      "              precision    recall  f1-score   support\n",
      "\n",
      "     battery      0.936     0.992     0.964       133\n",
      "  biological      0.978     0.978     0.978       137\n",
      "   cardboard      0.989     0.945     0.966       289\n",
      "     clothes      0.995     0.991     0.993       813\n",
      "       glass      0.944     0.966     0.955       435\n",
      "       metal      0.964     0.918     0.940       146\n",
      "       paper      0.963     0.951     0.957       247\n",
      "     plastic      0.931     0.931     0.931       303\n",
      "       shoes      0.963     0.966     0.964       295\n",
      "       trash      0.928     0.973     0.950       146\n",
      "\n",
      "    accuracy                          0.966      2944\n",
      "   macro avg      0.959     0.961     0.960      2944\n",
      "weighted avg      0.966     0.966     0.966      2944\n",
      "\n"
     ]
    },
    {
     "data": {
      "image/png": "[encoded data removed]",
      "text/plain": [
       "<Figure size 1200x400 with 2 Axes>"
      ]
     },
     "metadata": {},
     "output_type": "display_data"
    }
   ],
   "source": [
    "#googlenet\n",
    "import os\n",
    "import random\n",
    "import numpy as np\n",
    "import torch\n",
    "import torch.nn as nn\n",
    "import torch.optim as optim\n",
    "from torch.utils.data import DataLoader, random_split, Dataset, WeightedRandomSampler\n",
    "from torchvision import models, transforms\n",
    "from torchvision.datasets import ImageFolder\n",
    "from torchvision.transforms.functional import to_pil_image, normalize\n",
    "from tqdm import tqdm\n",
    "import kagglehub\n",
    "from PIL import Image, UnidentifiedImageError\n",
    "from sklearn.metrics import classification_report\n",
    "import matplotlib.pyplot as plt\n",
    "import subprocess\n",
    "import pkg_resources\n",
    "\n",
    "#  Configuration \n",
    "SEED = 42\n",
    "BATCH_SIZE = 32\n",
    "TEST_RATIO = 0.15\n",
    "VAL_RATIO = 0.15\n",
    "NUM_EPOCHS = 30\n",
    "LEARNING_RATE = 3e-4\n",
    "PATIENCE = 7\n",
    "NUM_WORKERS = 2\n",
    "IMAGENET_MEAN = [0.485, 0.456, 0.406]\n",
    "IMAGENET_STD = [0.229, 0.224, 0.225]\n",
    "\n",
    "#  Seed\n",
    "def setup_seed(seed):\n",
    "    torch.manual_seed(seed)\n",
    "    torch.cuda.manual_seed_all(seed)\n",
    "    np.random.seed(seed)\n",
    "    random.seed(seed)\n",
    "    torch.backends.cudnn.deterministic = True\n",
    "setup_seed(SEED)\n",
    "device = torch.device(\"cuda\" if torch.cuda.is_available() else \"cpu\")\n",
    "print(f\"Using device: {device}\")\n",
    "\n",
    "try:\n",
    "    try:\n",
    "        pkg_resources.get_distribution('pillow-webp-fork')\n",
    "        print(\"pillow-webp-fork already installed.\")\n",
    "    except pkg_resources.DistributionNotFound:\n",
    "        print(\"Attempting to install pillow-webp-fork...\")\n",
    "        subprocess.check_call([\"pip\", \"install\", \"pillow-webp-fork\"], stdout=subprocess.PIPE, stderr=subprocess.PIPE)\n",
    "        print(\"Successfully installed pillow-webp-fork.\")\n",
    "        print(\"Please restart the kernel/script if WEBP images still cause errors.\")\n",
    "except Exception as e:\n",
    "    print(f\"Could not install WebP support: {e}\")\n",
    "    print(\"WEBP images might not load correctly.\")\n",
    "\n",
    "\n",
    "#  Dataset Loading & Prep\n",
    "class RobustImageFolder(Dataset):\n",
    "    def __init__(self, root, transform=None):\n",
    "        self.root = root\n",
    "        self.transform = transform\n",
    "        self.samples = []\n",
    "        self.classes = []\n",
    "        self.class_to_idx = {}\n",
    "        self.targets = []\n",
    "\n",
    "        if not os.path.isdir(root):\n",
    "             raise FileNotFoundError(f\"The specified root directory does not exist: {root}\")\n",
    "\n",
    "        try:\n",
    "            potential_classes = sorted([d for d in os.listdir(root) if os.path.isdir(os.path.join(root, d))])\n",
    "            if not potential_classes:\n",
    "                raise ValueError(f\"No subdirectories found in {root}. Check the data directory path.\")\n",
    "            self.classes = potential_classes\n",
    "        except OSError as e:\n",
    "             raise OSError(f\"Cannot list directories in {root}. Check permissions or path.\") from e\n",
    "\n",
    "        self.class_to_idx = {cls: i for i, cls in enumerate(self.classes)}\n",
    "        class_counts = {cls: 0 for cls in self.classes}\n",
    "        skipped_count = 0\n",
    "\n",
    "        print(\"Scanning dataset for valid images...\")\n",
    "        for class_name in self.classes:\n",
    "            class_dir = os.path.join(root, class_name)\n",
    "            if not os.path.isdir(class_dir):\n",
    "                print(f\"Warning: Expected class directory not found: {class_dir}\")\n",
    "                continue\n",
    "\n",
    "            class_idx = self.class_to_idx[class_name]\n",
    "            try:\n",
    "                filenames = os.listdir(class_dir)\n",
    "            except OSError as e:\n",
    "                print(f\"Warning: Could not read files in {class_dir}: {e}\")\n",
    "                continue\n",
    "\n",
    "            print(f\"Processing class: {class_name} ({len(filenames)} files)\")\n",
    "\n",
    "            for filename in filenames:\n",
    "                path = os.path.join(class_dir, filename)\n",
    "                if not os.path.isfile(path):\n",
    "                    continue\n",
    "\n",
    "                try:\n",
    "                    with open(path, 'rb') as f:\n",
    "                         img = Image.open(f)\n",
    "                         img.verify()\n",
    "\n",
    "                    self.samples.append((path, class_idx))\n",
    "                    self.targets.append(class_idx)\n",
    "                    class_counts[class_name] += 1\n",
    "                except (UnidentifiedImageError, IOError, OSError, SyntaxError, ValueError) as e:\n",
    "                    skipped_count += 1\n",
    "                except Exception as e:\n",
    "                    print(f\"Unexpected error skipping image {path}: {type(e).__name__} - {e}\")\n",
    "                    skipped_count += 1\n",
    "\n",
    "        if skipped_count > 0:\n",
    "            print(f\"Skipped {skipped_count} corrupt or unreadable images.\")\n",
    "\n",
    "        print(\"\\nClass distribution (Valid images):\")\n",
    "        total_valid = 0\n",
    "        for cls, count in class_counts.items():\n",
    "            print(f\"  {cls}: {count} images\")\n",
    "            total_valid += count\n",
    "\n",
    "        if total_valid == 0:\n",
    "             raise RuntimeError(f\"No valid images found in {root}. Please check the dataset content and path.\")\n",
    "\n",
    "        self.targets = np.array(self.targets)\n",
    "        print(f\"\\nFound {total_valid} valid images across {len(self.classes)} classes.\")\n",
    "\n",
    "\n",
    "    def __len__(self):\n",
    "        return len(self.samples)\n",
    "\n",
    "    def __getitem__(self, index):\n",
    "        path, target = self.samples[index]\n",
    "        try:\n",
    "            with open(path, 'rb') as f:\n",
    "                 sample = Image.open(f).convert('RGB')\n",
    "        except Exception as e:\n",
    "            print(f\"Error loading image {path} during getitem: {e}. Returning placeholder.\")\n",
    "            placeholder_tensor = torch.zeros((3, 224, 224), dtype=torch.float32)\n",
    "            return placeholder_tensor, target\n",
    "\n",
    "        if self.transform is not None:\n",
    "            try:\n",
    "                 sample = self.transform(sample)\n",
    "            except Exception as e:\n",
    "                 print(f\"Error applying transform to image {path}: {e}. Returning placeholder.\")\n",
    "                 placeholder_tensor = torch.zeros((3, 224, 224), dtype=torch.float32)\n",
    "                 return placeholder_tensor, target\n",
    "\n",
    "        return sample, target\n",
    "\n",
    "\n",
    "print(\"Downloading dataset from Kaggle...\")\n",
    "dataset_path_root = kagglehub.dataset_download(\"sumn2u/garbage-classification-v2\")\n",
    "data_dir = os.path.join(dataset_path_root, \"garbage-dataset\")\n",
    "\n",
    "transform_train = transforms.Compose([\n",
    "    transforms.Resize((256, 256)),\n",
    "    transforms.RandomResizedCrop(224, scale=(0.7, 1.0)),\n",
    "    transforms.RandomHorizontalFlip(),\n",
    "    transforms.ToTensor(),\n",
    "    transforms.Normalize(mean=IMAGENET_MEAN, std=IMAGENET_STD)\n",
    "])\n",
    "transform_test = transforms.Compose([\n",
    "    transforms.Resize((224, 224)),\n",
    "    transforms.ToTensor(),\n",
    "    transforms.Normalize(mean=IMAGENET_MEAN, std=IMAGENET_STD)\n",
    "])\n",
    "\n",
    "dataset_all = RobustImageFolder(data_dir, transform=transform_test) \n",
    "class_names = dataset_all.classes\n",
    "\n",
    "size_all = len(dataset_all)\n",
    "size_test = int(size_all * TEST_RATIO)\n",
    "size_val = int(size_all * VAL_RATIO)\n",
    "size_train = size_all - size_test - size_val\n",
    "dataset_train, dataset_val, dataset_test = random_split(dataset_all, [size_train, size_val, size_test], generator=torch.Generator().manual_seed(SEED))\n",
    "\n",
    "dataset_train.dataset.transform = transform_train \n",
    "\n",
    "train_loader = DataLoader(dataset_train, batch_size=BATCH_SIZE, shuffle=True, num_workers=NUM_WORKERS, pin_memory=True, drop_last=True) \n",
    "val_loader = DataLoader(dataset_val, batch_size=BATCH_SIZE, shuffle=False, num_workers=NUM_WORKERS, pin_memory=True, drop_last=True)\n",
    "test_loader = DataLoader(dataset_test, batch_size=BATCH_SIZE, shuffle=False, num_workers=NUM_WORKERS, pin_memory=True, drop_last=True)\n",
    "\n",
    "\n",
    "#  Model Definition (GoogLeNet) \n",
    "model = models.googlenet(pretrained=True, aux_logits=True) \n",
    "num_ftrs = model.fc.in_features\n",
    "model.fc = nn.Linear(num_ftrs, len(class_names)) \n",
    "model = model.to(device)\n",
    "\n",
    "#  Loss and Optimizer \n",
    "criterion = nn.CrossEntropyLoss()\n",
    "optimizer = optim.AdamW(model.parameters(), lr=LEARNING_RATE, weight_decay=1e-4)\n",
    "scheduler = optim.lr_scheduler.ReduceLROnPlateau(optimizer, mode='min', patience=2, factor=0.1, verbose=True)\n",
    "\n",
    "\n",
    "#  Training Loop \n",
    "history = {'train_loss': [], 'val_loss': [], 'train_acc': [], 'val_acc': []}\n",
    "best_val_loss = float('inf')\n",
    "epochs_no_improve = 0\n",
    "\n",
    "for epoch in range(NUM_EPOCHS):\n",
    "    print(f\"Epoch {epoch+1}/{NUM_EPOCHS}\")\n",
    "    model.train()\n",
    "    train_loss, correct_train, total_train = 0, 0, 0\n",
    "    train_bar = tqdm(train_loader, desc=\"Training\")\n",
    "    for images, labels in train_bar:\n",
    "        images, labels = images.to(device), labels.to(device)\n",
    "        optimizer.zero_grad()\n",
    "        outputs = model(images)\n",
    "\n",
    "        if isinstance(outputs, tuple):\n",
    "            main_outputs = outputs[0] \n",
    "        else:\n",
    "            main_outputs = outputs\n",
    "\n",
    "        loss = criterion(main_outputs, labels)\n",
    "        loss.backward()\n",
    "        optimizer.step()\n",
    "\n",
    "        train_loss += loss.item()\n",
    "        _, predicted = torch.max(main_outputs.data, 1)\n",
    "        total_train += labels.size(0)\n",
    "        correct_train += (predicted == labels).sum().item()\n",
    "        train_bar.set_postfix({'loss': loss.item(), 'acc': correct_train / total_train})\n",
    "\n",
    "    epoch_train_loss = train_loss / len(train_loader)\n",
    "    epoch_train_acc = correct_train / total_train\n",
    "    history['train_loss'].append(epoch_train_loss)\n",
    "    history['train_acc'].append(epoch_train_acc)\n",
    "\n",
    "    model.eval()\n",
    "    val_loss, correct_val, total_val = 0, 0, 0\n",
    "    val_bar = tqdm(val_loader, desc=\"Validation\")\n",
    "    with torch.no_grad():\n",
    "        for images, labels in val_bar:\n",
    "            images, labels = images.to(device), labels.to(device)\n",
    "            outputs = model(images)\n",
    "\n",
    "            if isinstance(outputs, tuple):\n",
    "                main_outputs = outputs[0]\n",
    "            else:\n",
    "                main_outputs = outputs\n",
    "\n",
    "            loss = criterion(main_outputs, labels)\n",
    "\n",
    "            val_loss += loss.item()\n",
    "            _, predicted = torch.max(main_outputs.data, 1)\n",
    "            total_val += labels.size(0)\n",
    "            correct_val += (predicted == labels).sum().item()\n",
    "            val_bar.set_postfix({'loss': loss.item(), 'acc': correct_val / total_val})\n",
    "\n",
    "    epoch_val_loss = val_loss / len(val_loader)\n",
    "    epoch_val_acc = correct_val / total_val\n",
    "    history['val_loss'].append(epoch_val_loss)\n",
    "    history['val_acc'].append(epoch_val_acc)\n",
    "\n",
    "    print(f\"Train Loss: {epoch_train_loss:.4f}, Train Acc: {epoch_train_acc:.4f}, Val Loss: {epoch_val_loss:.4f}, Val Acc: {epoch_val_acc:.4f}\")\n",
    "\n",
    "    scheduler.step(epoch_val_loss)\n",
    "\n",
    "    if epoch_val_loss < best_val_loss:\n",
    "        best_val_loss = epoch_val_loss\n",
    "        torch.save(model.state_dict(), \"best_googlenet_model.pth\")\n",
    "        epochs_no_improve = 0\n",
    "    else:\n",
    "        epochs_no_improve += 1\n",
    "        if epochs_no_improve >= PATIENCE:\n",
    "            print(f\"Early stopping triggered after epoch {epoch+1}\")\n",
    "            break\n",
    "\n",
    "#  Testing and Classification Report\n",
    "model.load_state_dict(torch.load(\"best_googlenet_model.pth\", map_location=device))\n",
    "model.eval()\n",
    "all_preds = []\n",
    "all_labels = []\n",
    "test_bar = tqdm(test_loader, desc=\"Testing\")\n",
    "with torch.no_grad():\n",
    "    for images, labels in test_bar:\n",
    "        images, labels = images.to(device), labels.to(device)\n",
    "        outputs = model(images)\n",
    "        if isinstance(outputs, tuple):\n",
    "            main_outputs = outputs[0]\n",
    "        else:\n",
    "            main_outputs = outputs\n",
    "\n",
    "        _, predicted = torch.max(main_outputs.data, 1)\n",
    "        all_preds.extend(predicted.cpu().numpy())\n",
    "        all_labels.extend(labels.cpu().numpy())\n",
    "\n",
    "print(\"\\nClassification Report (GoogLeNet):\")\n",
    "print(classification_report(all_labels, all_preds, target_names=class_names, digits=3, zero_division=0))\n",
    "\n",
    "#  Plotting Training History\n",
    "plt.figure(figsize=(12, 4))\n",
    "plt.subplot(1, 2, 1)\n",
    "plt.plot(history['train_loss'], label='Train Loss')\n",
    "plt.plot(history['val_loss'], label='Validation Loss')\n",
    "plt.legend()\n",
    "plt.title('GoogLeNet Loss')\n",
    "plt.subplot(1, 2, 2)\n",
    "plt.plot(history['train_acc'], label='Train Accuracy')\n",
    "plt.plot(history['val_acc'], label='Validation Accuracy')\n",
    "plt.legend()\n",
    "plt.title('GoogLeNet Accuracy')\n",
    "plt.show()"
   ]
  }
 ],
 "metadata": {
  "accelerator": "TPU",
  "colab": {
   "gpuType": "V28",
   "provenance": []
  },
  "kernelspec": {
   "display_name": "Python 3 (ipykernel)",
   "language": "python",
   "name": "python3"
  },
  "language_info": {
   "codemirror_mode": {
    "name": "ipython",
    "version": 3
   },
   "file_extension": ".py",
   "mimetype": "text/x-python",
   "name": "python",
   "nbconvert_exporter": "python",
   "pygments_lexer": "ipython3",
   "version": "3.11.4"
  }
 },
 "nbformat": 4,
 "nbformat_minor": 4
}
