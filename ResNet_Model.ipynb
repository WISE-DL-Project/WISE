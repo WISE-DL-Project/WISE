{
 "cells": [
  {
   "cell_type": "code",
   "execution_count": 1,
   "metadata": {
    "tags": []
   },
   "outputs": [
    {
     "name": "stdout",
     "output_type": "stream",
     "text": [
      "d:\\MSDS\\Spring Term\\DS6050 - DL\\WISE\n"
     ]
    }
   ],
   "source": [
    "import os\n",
    "import pandas as pd\n",
    "import numpy as np\n",
    "\n",
    "%load_ext autoreload\n",
    "%autoreload 2\n",
    "# Get current working directory\n",
    "cwd = os.getcwd()\n",
    "print(cwd)\n"
   ]
  },
  {
   "cell_type": "markdown",
   "metadata": {},
   "source": [
    "### ResNet Model \n",
    "\n",
    "Training Time: 760 seconds\n",
    "\n",
    "96% Acccuracy"
   ]
  },
  {
   "cell_type": "code",
   "execution_count": 7,
   "metadata": {},
   "outputs": [
    {
     "name": "stdout",
     "output_type": "stream",
     "text": [
      "Using device: cuda\n",
      "Downloading dataset from Kaggle...\n",
      "Warning: Looks like you're using an outdated `kagglehub` version (installed: 0.3.10), please consider upgrading to the latest version (0.3.11).\n",
      "Validating images...\n",
      "Skipping invalid image: /home/gry6ks/.cache/kagglehub/datasets/sumn2u/garbage-classification-v2/versions/8/garbage-dataset/paper/paper_1678.jpg\n",
      "Skipping invalid image: /home/gry6ks/.cache/kagglehub/datasets/sumn2u/garbage-classification-v2/versions/8/garbage-dataset/paper/paper_2784.jpg\n",
      "Skipping invalid image: /home/gry6ks/.cache/kagglehub/datasets/sumn2u/garbage-classification-v2/versions/8/garbage-dataset/paper/paper_3119.jpg\n",
      "Epoch 1/30\n"
     ]
    },
    {
     "name": "stderr",
     "output_type": "stream",
     "text": [
      "Training: 100%|██████████| 433/433 [00:39<00:00, 10.93it/s, loss=0.688, acc=0.823]\n",
      "Validation: 100%|██████████| 93/93 [00:08<00:00, 11.10it/s, loss=0.724, acc=0.83] \n"
     ]
    },
    {
     "name": "stdout",
     "output_type": "stream",
     "text": [
      "Train Loss: 0.5512, Train Acc: 0.8225, Val Loss: 0.5617, Val Acc: 0.8296\n",
      "Epoch 2/30\n"
     ]
    },
    {
     "name": "stderr",
     "output_type": "stream",
     "text": [
      "Training: 100%|██████████| 433/433 [00:38<00:00, 11.26it/s, loss=0.244, acc=0.885] \n",
      "Validation: 100%|██████████| 93/93 [00:08<00:00, 11.15it/s, loss=0.322, acc=0.892] \n"
     ]
    },
    {
     "name": "stdout",
     "output_type": "stream",
     "text": [
      "Train Loss: 0.3538, Train Acc: 0.8846, Val Loss: 0.3352, Val Acc: 0.8920\n",
      "Epoch 3/30\n"
     ]
    },
    {
     "name": "stderr",
     "output_type": "stream",
     "text": [
      "Training: 100%|██████████| 433/433 [00:39<00:00, 10.91it/s, loss=1.24, acc=0.909]  \n",
      "Validation: 100%|██████████| 93/93 [00:08<00:00, 11.25it/s, loss=0.319, acc=0.915] \n"
     ]
    },
    {
     "name": "stdout",
     "output_type": "stream",
     "text": [
      "Train Loss: 0.2827, Train Acc: 0.9088, Val Loss: 0.2770, Val Acc: 0.9146\n",
      "Epoch 4/30\n"
     ]
    },
    {
     "name": "stderr",
     "output_type": "stream",
     "text": [
      "Training: 100%|██████████| 433/433 [00:39<00:00, 10.96it/s, loss=0.0581, acc=0.916]\n",
      "Validation: 100%|██████████| 93/93 [00:08<00:00, 11.15it/s, loss=0.393, acc=0.916] \n"
     ]
    },
    {
     "name": "stdout",
     "output_type": "stream",
     "text": [
      "Train Loss: 0.2506, Train Acc: 0.9164, Val Loss: 0.2866, Val Acc: 0.9156\n",
      "Epoch 5/30\n"
     ]
    },
    {
     "name": "stderr",
     "output_type": "stream",
     "text": [
      "Training: 100%|██████████| 433/433 [00:39<00:00, 11.01it/s, loss=0.757, acc=0.931] \n",
      "Validation: 100%|██████████| 93/93 [00:08<00:00, 11.11it/s, loss=0.266, acc=0.915] \n"
     ]
    },
    {
     "name": "stdout",
     "output_type": "stream",
     "text": [
      "Train Loss: 0.2064, Train Acc: 0.9315, Val Loss: 0.2825, Val Acc: 0.9150\n",
      "Epoch 6/30\n"
     ]
    },
    {
     "name": "stderr",
     "output_type": "stream",
     "text": [
      "Training: 100%|██████████| 433/433 [00:39<00:00, 10.99it/s, loss=0.342, acc=0.932] \n",
      "Validation: 100%|██████████| 93/93 [00:08<00:00, 11.01it/s, loss=0.142, acc=0.92]  \n"
     ]
    },
    {
     "name": "stdout",
     "output_type": "stream",
     "text": [
      "Train Loss: 0.2077, Train Acc: 0.9320, Val Loss: 0.2809, Val Acc: 0.9204\n",
      "Epoch 7/30\n"
     ]
    },
    {
     "name": "stderr",
     "output_type": "stream",
     "text": [
      "Training: 100%|██████████| 433/433 [00:39<00:00, 11.01it/s, loss=0.0218, acc=0.972] \n",
      "Validation: 100%|██████████| 93/93 [00:08<00:00, 11.26it/s, loss=0.0183, acc=0.954] \n"
     ]
    },
    {
     "name": "stdout",
     "output_type": "stream",
     "text": [
      "Train Loss: 0.0891, Train Acc: 0.9723, Val Loss: 0.1617, Val Acc: 0.9538\n",
      "Epoch 8/30\n"
     ]
    },
    {
     "name": "stderr",
     "output_type": "stream",
     "text": [
      "Training: 100%|██████████| 433/433 [00:38<00:00, 11.13it/s, loss=0.936, acc=0.982]  \n",
      "Validation: 100%|██████████| 93/93 [00:08<00:00, 11.11it/s, loss=0.144, acc=0.951]  \n"
     ]
    },
    {
     "name": "stdout",
     "output_type": "stream",
     "text": [
      "Train Loss: 0.0600, Train Acc: 0.9821, Val Loss: 0.1552, Val Acc: 0.9511\n",
      "Epoch 9/30\n"
     ]
    },
    {
     "name": "stderr",
     "output_type": "stream",
     "text": [
      "Training: 100%|██████████| 433/433 [00:39<00:00, 11.02it/s, loss=1.19, acc=0.984]   \n",
      "Validation: 100%|██████████| 93/93 [00:08<00:00, 11.02it/s, loss=0.186, acc=0.957]  \n"
     ]
    },
    {
     "name": "stdout",
     "output_type": "stream",
     "text": [
      "Train Loss: 0.0530, Train Acc: 0.9837, Val Loss: 0.1511, Val Acc: 0.9571\n",
      "Epoch 10/30\n"
     ]
    },
    {
     "name": "stderr",
     "output_type": "stream",
     "text": [
      "Training: 100%|██████████| 433/433 [00:39<00:00, 10.92it/s, loss=0.212, acc=0.989]   \n",
      "Validation: 100%|██████████| 93/93 [00:08<00:00, 11.23it/s, loss=0.0362, acc=0.956] \n"
     ]
    },
    {
     "name": "stdout",
     "output_type": "stream",
     "text": [
      "Train Loss: 0.0370, Train Acc: 0.9892, Val Loss: 0.1641, Val Acc: 0.9565\n",
      "Epoch 11/30\n"
     ]
    },
    {
     "name": "stderr",
     "output_type": "stream",
     "text": [
      "Training: 100%|██████████| 433/433 [00:39<00:00, 11.03it/s, loss=0.00471, acc=0.99] \n",
      "Validation: 100%|██████████| 93/93 [00:08<00:00, 11.14it/s, loss=0.0579, acc=0.953]  \n"
     ]
    },
    {
     "name": "stdout",
     "output_type": "stream",
     "text": [
      "Train Loss: 0.0311, Train Acc: 0.9900, Val Loss: 0.1666, Val Acc: 0.9528\n",
      "Epoch 12/30\n"
     ]
    },
    {
     "name": "stderr",
     "output_type": "stream",
     "text": [
      "Training: 100%|██████████| 433/433 [00:38<00:00, 11.15it/s, loss=0.107, acc=0.992]   \n",
      "Validation: 100%|██████████| 93/93 [00:08<00:00, 11.21it/s, loss=0.079, acc=0.955]  \n"
     ]
    },
    {
     "name": "stdout",
     "output_type": "stream",
     "text": [
      "Train Loss: 0.0251, Train Acc: 0.9924, Val Loss: 0.1734, Val Acc: 0.9548\n",
      "Epoch 13/30\n"
     ]
    },
    {
     "name": "stderr",
     "output_type": "stream",
     "text": [
      "Training: 100%|██████████| 433/433 [00:39<00:00, 11.00it/s, loss=0.675, acc=0.994]   \n",
      "Validation: 100%|██████████| 93/93 [00:08<00:00, 11.01it/s, loss=0.139, acc=0.958]   \n"
     ]
    },
    {
     "name": "stdout",
     "output_type": "stream",
     "text": [
      "Train Loss: 0.0213, Train Acc: 0.9943, Val Loss: 0.1609, Val Acc: 0.9582\n",
      "Epoch 14/30\n"
     ]
    },
    {
     "name": "stderr",
     "output_type": "stream",
     "text": [
      "Training: 100%|██████████| 433/433 [00:39<00:00, 11.00it/s, loss=0.0427, acc=0.993]  \n",
      "Validation: 100%|██████████| 93/93 [00:08<00:00, 11.15it/s, loss=0.108, acc=0.957]  \n"
     ]
    },
    {
     "name": "stdout",
     "output_type": "stream",
     "text": [
      "Train Loss: 0.0220, Train Acc: 0.9933, Val Loss: 0.1693, Val Acc: 0.9568\n",
      "Epoch 15/30\n"
     ]
    },
    {
     "name": "stderr",
     "output_type": "stream",
     "text": [
      "Training: 100%|██████████| 433/433 [00:39<00:00, 10.93it/s, loss=0.00107, acc=0.994] \n",
      "Validation: 100%|██████████| 93/93 [00:08<00:00, 10.68it/s, loss=0.00798, acc=0.959]\n"
     ]
    },
    {
     "name": "stdout",
     "output_type": "stream",
     "text": [
      "Train Loss: 0.0174, Train Acc: 0.9941, Val Loss: 0.1640, Val Acc: 0.9588\n",
      "Epoch 16/30\n"
     ]
    },
    {
     "name": "stderr",
     "output_type": "stream",
     "text": [
      "Training: 100%|██████████| 433/433 [00:40<00:00, 10.78it/s, loss=0.0068, acc=0.995]  \n",
      "Validation: 100%|██████████| 93/93 [00:08<00:00, 11.18it/s, loss=0.0975, acc=0.957] \n"
     ]
    },
    {
     "name": "stdout",
     "output_type": "stream",
     "text": [
      "Train Loss: 0.0181, Train Acc: 0.9947, Val Loss: 0.1554, Val Acc: 0.9571\n",
      "Early stopping triggered after epoch 16\n"
     ]
    },
    {
     "name": "stderr",
     "output_type": "stream",
     "text": [
      "Testing: 100%|██████████| 93/93 [00:09<00:00,  9.48it/s]\n"
     ]
    },
    {
     "name": "stdout",
     "output_type": "stream",
     "text": [
      "\n",
      "Classification Report (ResNet50):\n",
      "              precision    recall  f1-score   support\n",
      "\n",
      "     battery      0.928     0.963     0.945       134\n",
      "  biological      0.971     0.978     0.975       138\n",
      "   cardboard      0.946     0.972     0.959       289\n",
      "     clothes      0.989     0.987     0.988       818\n",
      "       glass      0.944     0.957     0.950       439\n",
      "       metal      0.902     0.884     0.893       146\n",
      "       paper      0.955     0.943     0.949       247\n",
      "     plastic      0.938     0.895     0.916       304\n",
      "       shoes      0.942     0.970     0.956       299\n",
      "       trash      0.951     0.906     0.928       149\n",
      "\n",
      "    accuracy                          0.955      2963\n",
      "   macro avg      0.947     0.945     0.946      2963\n",
      "weighted avg      0.955     0.955     0.955      2963\n",
      "\n"
     ]
    },
    {
     "data": {
      "image/png": "[encoded data removed]",
      "text/plain": [
       "<Figure size 1200x400 with 2 Axes>"
      ]
     },
     "metadata": {},
     "output_type": "display_data"
    }
   ],
   "source": [
    "#ResNet50 \n",
    "\n",
    "import os\n",
    "import random\n",
    "import numpy as np\n",
    "import torch\n",
    "import torch.nn as nn\n",
    "import torch.optim as optim\n",
    "from torch.utils.data import DataLoader, random_split, Dataset, WeightedRandomSampler\n",
    "from torchvision import models, transforms\n",
    "from torchvision.datasets import ImageFolder, DatasetFolder \n",
    "from torchvision.datasets.folder import pil_loader, IMG_EXTENSIONS \n",
    "from tqdm import tqdm\n",
    "import kagglehub\n",
    "from PIL import Image, UnidentifiedImageError\n",
    "from sklearn.metrics import classification_report\n",
    "import matplotlib.pyplot as plt\n",
    "\n",
    "# Configuration\n",
    "SEED = 42\n",
    "BATCH_SIZE = 32\n",
    "TEST_RATIO = 0.15\n",
    "VAL_RATIO = 0.15\n",
    "NUM_EPOCHS = 30\n",
    "LEARNING_RATE = 3e-4\n",
    "PATIENCE = 7\n",
    "NUM_WORKERS = 2\n",
    "IMAGENET_MEAN = [0.485, 0.456, 0.406]\n",
    "IMAGENET_STD = [0.229, 0.224, 0.225]\n",
    "\n",
    "#Setup Seed\n",
    "def setup_seed(seed):\n",
    "    torch.manual_seed(seed)\n",
    "    torch.cuda.manual_seed_all(seed)\n",
    "    np.random.seed(seed)\n",
    "    random.seed(seed)\n",
    "    torch.backends.cudnn.deterministic = True\n",
    "setup_seed(SEED)\n",
    "device = torch.device(\"cuda\" if torch.cuda.is_available() else \"cpu\")\n",
    "print(f\"Using device: {device}\")\n",
    "\n",
    "#  Dataset Loading & Prep\n",
    "print(\"Downloading dataset from Kaggle...\")\n",
    "dataset_path_root = kagglehub.dataset_download(\"sumn2u/garbage-classification-v2\")\n",
    "data_dir = os.path.join(dataset_path_root, \"garbage-dataset\")\n",
    "\n",
    "def is_valid_image(filepath):\n",
    "    try:\n",
    "        Image.open(filepath).verify()\n",
    "        return True\n",
    "    except (UnidentifiedImageError, OSError, IOError): \n",
    "        return False\n",
    "\n",
    "print(\"Validating images...\")\n",
    "valid_image_paths = []\n",
    "for root, _, files in os.walk(data_dir):\n",
    "    for file in files:\n",
    "        if file.lower().endswith(tuple(IMG_EXTENSIONS)): \n",
    "            filepath = os.path.join(root, file)\n",
    "            if is_valid_image(filepath):\n",
    "                valid_image_paths.append(filepath)\n",
    "            else:\n",
    "                print(f\"Skipping invalid image: {filepath}\")\n",
    "\n",
    "if not valid_image_paths:\n",
    "    raise RuntimeError(\"No valid images found in the dataset. Please check the dataset path.\")\n",
    "\n",
    "class CustomImageFolder(DatasetFolder): \n",
    "    def __init__(self, root, transform=None, target_transform=None, is_valid_file=None):\n",
    "        super(CustomImageFolder, self).__init__(\n",
    "            root,\n",
    "            loader=pil_loader, \n",
    "            extensions=None,\n",
    "            transform=transform,\n",
    "            target_transform=target_transform,\n",
    "            is_valid_file=is_valid_file\n",
    "        )\n",
    "        self.imgs = self.samples = [(s, c) for s, c in self.samples if s in valid_image_paths]\n",
    "        if len(self.imgs) == 0:\n",
    "            raise RuntimeError(f\"Found 0 images in subfolders of: {root}. \"\n",
    "                               \"Supported image extensions are: {IMG_EXTENSIONS}\") \n",
    "\n",
    "\n",
    "transform_train = transforms.Compose([\n",
    "    transforms.Resize((256, 256)),\n",
    "    transforms.RandomResizedCrop(224, scale=(0.7, 1.0)),\n",
    "    transforms.RandomHorizontalFlip(),\n",
    "    transforms.ToTensor(),\n",
    "    transforms.Normalize(mean=IMAGENET_MEAN, std=IMAGENET_STD)\n",
    "])\n",
    "transform_test = transforms.Compose([\n",
    "    transforms.Resize((224, 224)),\n",
    "    transforms.ToTensor(),\n",
    "    transforms.Normalize(mean=IMAGENET_MEAN, std=IMAGENET_STD)\n",
    "])\n",
    "\n",
    "dataset_all = CustomImageFolder(data_dir, transform=transform_test, is_valid_file=is_valid_image) \n",
    "class_names = dataset_all.classes\n",
    "\n",
    "size_all = len(dataset_all)\n",
    "size_test = int(size_all * TEST_RATIO)\n",
    "size_val = int(size_all * VAL_RATIO)\n",
    "size_train = size_all - size_test - size_val\n",
    "dataset_train, dataset_val, dataset_test = random_split(dataset_all, [size_train, size_val, size_test], generator=torch.Generator().manual_seed(SEED))\n",
    "\n",
    "dataset_train.dataset.transform = transform_train \n",
    "\n",
    "\n",
    "train_loader = DataLoader(dataset_train, batch_size=BATCH_SIZE, shuffle=True, num_workers=NUM_WORKERS, pin_memory=True)\n",
    "val_loader = DataLoader(dataset_val, batch_size=BATCH_SIZE, shuffle=False, num_workers=NUM_WORKERS, pin_memory=True)\n",
    "test_loader = DataLoader(dataset_test, batch_size=BATCH_SIZE, shuffle=False, num_workers=NUM_WORKERS, pin_memory=True)\n",
    "\n",
    "\n",
    "#  Model Definition (ResNet50)\n",
    "model = models.resnet50(pretrained=True)\n",
    "num_ftrs = model.fc.in_features\n",
    "model.fc = nn.Linear(num_ftrs, len(class_names)) \n",
    "model = model.to(device)\n",
    "\n",
    "# Loss and Optimizer\n",
    "criterion = nn.CrossEntropyLoss()\n",
    "optimizer = optim.AdamW(model.parameters(), lr=LEARNING_RATE, weight_decay=1e-4)\n",
    "scheduler = optim.lr_scheduler.ReduceLROnPlateau(optimizer, mode='min', patience=2, factor=0.1, verbose=True)\n",
    "\n",
    "#  Training Loop\n",
    "history = {'train_loss': [], 'val_loss': [], 'train_acc': [], 'val_acc': []}\n",
    "best_val_loss = float('inf')\n",
    "epochs_no_improve = 0\n",
    "\n",
    "for epoch in range(NUM_EPOCHS):\n",
    "    print(f\"Epoch {epoch+1}/{NUM_EPOCHS}\")\n",
    "    model.train()\n",
    "    train_loss, correct_train, total_train = 0, 0, 0\n",
    "    train_bar = tqdm(train_loader, desc=\"Training\")\n",
    "    for images, labels in train_bar:\n",
    "        images, labels = images.to(device), labels.to(device)\n",
    "        optimizer.zero_grad()\n",
    "        outputs = model(images)\n",
    "        loss = criterion(outputs, labels)\n",
    "        loss.backward()\n",
    "        optimizer.step()\n",
    "\n",
    "        train_loss += loss.item()\n",
    "        _, predicted = torch.max(outputs.data, 1)\n",
    "        total_train += labels.size(0)\n",
    "        correct_train += (predicted == labels).sum().item()\n",
    "        train_bar.set_postfix({'loss': loss.item(), 'acc': correct_train / total_train})\n",
    "\n",
    "    epoch_train_loss = train_loss / len(train_loader)\n",
    "    epoch_train_acc = correct_train / total_train\n",
    "    history['train_loss'].append(epoch_train_loss)\n",
    "    history['train_acc'].append(epoch_train_acc)\n",
    "\n",
    "    model.eval()\n",
    "    val_loss, correct_val, total_val = 0, 0, 0\n",
    "    val_bar = tqdm(val_loader, desc=\"Validation\")\n",
    "    with torch.no_grad():\n",
    "        for images, labels in val_bar:\n",
    "            images, labels = images.to(device), labels.to(device)\n",
    "            outputs = model(images)\n",
    "            loss = criterion(outputs, labels)\n",
    "\n",
    "            val_loss += loss.item()\n",
    "            _, predicted = torch.max(outputs.data, 1)\n",
    "            total_val += labels.size(0)\n",
    "            correct_val += (predicted == labels).sum().item()\n",
    "            val_bar.set_postfix({'loss': loss.item(), 'acc': correct_val / total_val})\n",
    "\n",
    "    epoch_val_loss = val_loss / len(val_loader)\n",
    "    epoch_val_acc = correct_val / total_val\n",
    "    history['val_loss'].append(epoch_val_loss)\n",
    "    history['val_acc'].append(epoch_val_acc)\n",
    "\n",
    "    print(f\"Train Loss: {epoch_train_loss:.4f}, Train Acc: {epoch_train_acc:.4f}, Val Loss: {epoch_val_loss:.4f}, Val Acc: {epoch_val_acc:.4f}\")\n",
    "\n",
    "    scheduler.step(epoch_val_loss)\n",
    "\n",
    "    if epoch_val_loss < best_val_loss:\n",
    "        best_val_loss = epoch_val_loss\n",
    "        torch.save(model.state_dict(), \"best_resnet50_model.pth\")\n",
    "        epochs_no_improve = 0\n",
    "    else:\n",
    "        epochs_no_improve += 1\n",
    "        if epochs_no_improve >= PATIENCE:\n",
    "            print(f\"Early stopping triggered after epoch {epoch+1}\")\n",
    "            break\n",
    "\n",
    "# testing and Classification Report\n",
    "model.load_state_dict(torch.load(\"best_resnet50_model.pth\", map_location=device))\n",
    "model.eval()\n",
    "all_preds = []\n",
    "all_labels = []\n",
    "test_bar = tqdm(test_loader, desc=\"Testing\")\n",
    "with torch.no_grad():\n",
    "    for images, labels in test_bar:\n",
    "        images, labels = images.to(device), labels.to(device)\n",
    "        outputs = model(images)\n",
    "        _, predicted = torch.max(outputs.data, 1)\n",
    "        all_preds.extend(predicted.cpu().numpy())\n",
    "        all_labels.extend(labels.cpu().numpy())\n",
    "\n",
    "print(\"\\nClassification Report (ResNet50):\")\n",
    "print(classification_report(all_labels, all_preds, target_names=class_names, digits=3, zero_division=0))\n",
    "\n",
    "#  Plotting Training History\n",
    "plt.figure(figsize=(12, 4))\n",
    "plt.subplot(1, 2, 1)\n",
    "plt.plot(history['train_loss'], label='Train Loss')\n",
    "plt.plot(history['val_loss'], label='Validation Loss')\n",
    "plt.legend()\n",
    "plt.title('ResNet50 Loss')\n",
    "plt.subplot(1, 2, 2)\n",
    "plt.plot(history['train_acc'], label='Train Accuracy')\n",
    "plt.plot(history['val_acc'], label='Validation Accuracy')\n",
    "plt.legend()\n",
    "plt.title('ResNet50 Accuracy')\n",
    "plt.show()"
   ]
  }
 ],
 "metadata": {
  "accelerator": "TPU",
  "colab": {
   "gpuType": "V28",
   "provenance": []
  },
  "kernelspec": {
   "display_name": "base",
   "language": "python",
   "name": "python3"
  },
  "language_info": {
   "codemirror_mode": {
    "name": "ipython",
    "version": 3
   },
   "file_extension": ".py",
   "mimetype": "text/x-python",
   "name": "python",
   "nbconvert_exporter": "python",
   "pygments_lexer": "ipython3",
   "version": "3.12.3"
  }
 },
 "nbformat": 4,
 "nbformat_minor": 4
}
